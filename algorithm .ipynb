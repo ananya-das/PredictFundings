{
 "cells": [
  {
   "cell_type": "markdown",
   "id": "e47189fc",
   "metadata": {},
   "source": [
    "# Predicting Future Funding to the startup's using LSTM "
   ]
  },
  {
   "cell_type": "markdown",
   "id": "561e53f3",
   "metadata": {},
   "source": [
    "# Long short-term memory:\n",
    "* Long short-term memory (LSTM) is an artificial recurrent neural network (RNN) architecture used in the field of deep learning.\n",
    "* LSTM is applicable to tasks such as unsegmented, connected handwriting recognition, speech recognition and anomaly detection in network traffic or IDSs (intrusion detection systems)."
   ]
  },
  {
   "cell_type": "code",
   "execution_count": 1,
   "id": "e678ee0d",
   "metadata": {},
   "outputs": [],
   "source": [
    "import pandas as pd\n",
    "import numpy as np\n",
    "import matplotlib.pyplot as plt\n",
    "import seaborn as sns\n",
    "from sklearn.metrics import r2_score\n",
    "import plotly\n",
    "import plotly.graph_objects as go\n"
   ]
  },
  {
   "cell_type": "code",
   "execution_count": 2,
   "id": "09a21811",
   "metadata": {},
   "outputs": [
    {
     "data": {
      "text/html": [
       "<div>\n",
       "<style scoped>\n",
       "    .dataframe tbody tr th:only-of-type {\n",
       "        vertical-align: middle;\n",
       "    }\n",
       "\n",
       "    .dataframe tbody tr th {\n",
       "        vertical-align: top;\n",
       "    }\n",
       "\n",
       "    .dataframe thead th {\n",
       "        text-align: right;\n",
       "    }\n",
       "</style>\n",
       "<table border=\"1\" class=\"dataframe\">\n",
       "  <thead>\n",
       "    <tr style=\"text-align: right;\">\n",
       "      <th></th>\n",
       "      <th>Sr No</th>\n",
       "      <th>Date dd/mm/yyyy</th>\n",
       "      <th>Startup Name</th>\n",
       "      <th>Industry Vertical</th>\n",
       "      <th>SubVertical</th>\n",
       "      <th>City  Location</th>\n",
       "      <th>Investors Name</th>\n",
       "      <th>InvestmentnType</th>\n",
       "      <th>Amount in USD</th>\n",
       "      <th>Remarks</th>\n",
       "    </tr>\n",
       "  </thead>\n",
       "  <tbody>\n",
       "    <tr>\n",
       "      <th>0</th>\n",
       "      <td>1</td>\n",
       "      <td>09/01/2020</td>\n",
       "      <td>BYJU’S</td>\n",
       "      <td>E-Tech</td>\n",
       "      <td>E-learning</td>\n",
       "      <td>Bengaluru</td>\n",
       "      <td>Tiger Global Management</td>\n",
       "      <td>Private Equity Round</td>\n",
       "      <td>20,00,00,000</td>\n",
       "      <td>NaN</td>\n",
       "    </tr>\n",
       "    <tr>\n",
       "      <th>1</th>\n",
       "      <td>2</td>\n",
       "      <td>13/01/2020</td>\n",
       "      <td>Shuttl</td>\n",
       "      <td>Transportation</td>\n",
       "      <td>App based shuttle service</td>\n",
       "      <td>Gurgaon</td>\n",
       "      <td>Susquehanna Growth Equity</td>\n",
       "      <td>Series C</td>\n",
       "      <td>80,48,394</td>\n",
       "      <td>NaN</td>\n",
       "    </tr>\n",
       "    <tr>\n",
       "      <th>2</th>\n",
       "      <td>3</td>\n",
       "      <td>09/01/2020</td>\n",
       "      <td>Mamaearth</td>\n",
       "      <td>E-commerce</td>\n",
       "      <td>Retailer of baby and toddler products</td>\n",
       "      <td>Bengaluru</td>\n",
       "      <td>Sequoia Capital India</td>\n",
       "      <td>Series B</td>\n",
       "      <td>1,83,58,860</td>\n",
       "      <td>NaN</td>\n",
       "    </tr>\n",
       "    <tr>\n",
       "      <th>3</th>\n",
       "      <td>4</td>\n",
       "      <td>02/01/2020</td>\n",
       "      <td>https://www.wealthbucket.in/</td>\n",
       "      <td>FinTech</td>\n",
       "      <td>Online Investment</td>\n",
       "      <td>New Delhi</td>\n",
       "      <td>Vinod Khatumal</td>\n",
       "      <td>Pre-series A</td>\n",
       "      <td>30,00,000</td>\n",
       "      <td>NaN</td>\n",
       "    </tr>\n",
       "    <tr>\n",
       "      <th>4</th>\n",
       "      <td>5</td>\n",
       "      <td>02/01/2020</td>\n",
       "      <td>Fashor</td>\n",
       "      <td>Fashion and Apparel</td>\n",
       "      <td>Embroiled Clothes For Women</td>\n",
       "      <td>Mumbai</td>\n",
       "      <td>Sprout Venture Partners</td>\n",
       "      <td>Seed Round</td>\n",
       "      <td>18,00,000</td>\n",
       "      <td>NaN</td>\n",
       "    </tr>\n",
       "  </tbody>\n",
       "</table>\n",
       "</div>"
      ],
      "text/plain": [
       "   Sr No Date dd/mm/yyyy                  Startup Name    Industry Vertical  \\\n",
       "0      1      09/01/2020                        BYJU’S               E-Tech   \n",
       "1      2      13/01/2020                        Shuttl       Transportation   \n",
       "2      3      09/01/2020                     Mamaearth           E-commerce   \n",
       "3      4      02/01/2020  https://www.wealthbucket.in/              FinTech   \n",
       "4      5      02/01/2020                        Fashor  Fashion and Apparel   \n",
       "\n",
       "                             SubVertical City  Location  \\\n",
       "0                             E-learning      Bengaluru   \n",
       "1              App based shuttle service        Gurgaon   \n",
       "2  Retailer of baby and toddler products      Bengaluru   \n",
       "3                      Online Investment      New Delhi   \n",
       "4            Embroiled Clothes For Women         Mumbai   \n",
       "\n",
       "              Investors Name       InvestmentnType Amount in USD Remarks  \n",
       "0    Tiger Global Management  Private Equity Round  20,00,00,000     NaN  \n",
       "1  Susquehanna Growth Equity              Series C     80,48,394     NaN  \n",
       "2      Sequoia Capital India              Series B   1,83,58,860     NaN  \n",
       "3             Vinod Khatumal          Pre-series A     30,00,000     NaN  \n",
       "4    Sprout Venture Partners            Seed Round     18,00,000     NaN  "
      ]
     },
     "execution_count": 2,
     "metadata": {},
     "output_type": "execute_result"
    }
   ],
   "source": [
    "data = pd.read_csv('startup_funding.csv')\n",
    "data.head()"
   ]
  },
  {
   "cell_type": "code",
   "execution_count": 3,
   "id": "fe6844b2",
   "metadata": {},
   "outputs": [],
   "source": [
    "import warnings\n",
    "warnings.filterwarnings(\"ignore\")"
   ]
  },
  {
   "cell_type": "code",
   "execution_count": 4,
   "id": "141688c3",
   "metadata": {},
   "outputs": [
    {
     "data": {
      "text/plain": [
       "(3044, 10)"
      ]
     },
     "execution_count": 4,
     "metadata": {},
     "output_type": "execute_result"
    }
   ],
   "source": [
    "data.columns=['SNo', 'Date', 'StartupName', 'IndustryVertical', 'SubVertical',\n",
    "       'CityLocation', 'InvestorsName', 'InvestmentType', 'AmountInUSD',\n",
    "       'Remarks']\n",
    "data.shape"
   ]
  },
  {
   "cell_type": "code",
   "execution_count": 5,
   "id": "996d0a33",
   "metadata": {},
   "outputs": [],
   "source": [
    "data['StartupName'] = data['StartupName'].apply(lambda x: (str(x).replace(\"\\\\\\\\\",\"\")))\n",
    "data['StartupName'] = data['StartupName'].apply(lambda x: (str(x).replace(\"\\\"\",\"\")))"
   ]
  },
  {
   "cell_type": "code",
   "execution_count": 6,
   "id": "87d66ab0",
   "metadata": {},
   "outputs": [],
   "source": [
    "for i in range(0,len(data[\"IndustryVertical\"])):\n",
    "    if data[\"IndustryVertical\"][i] in [\"ECommerce\",\n",
    "                                       \"ecommerce\",\n",
    "                                       \"Ecommerce\", \n",
    "                                       \"E-Commerce\",\n",
    "                                       \"E-commerce\"]:\n",
    "        data[\"IndustryVertical\"][i]=\"eCommerce\"\n",
    "        \n",
    "for i in range(0,len(data[\"StartupName\"])):\n",
    "    if data[\"StartupName\"][i] in [\"Ola\",\n",
    "                                  \"Ola Cabs\", \n",
    "                                  \"Olacabs\"]:\n",
    "        data[\"StartupName\"][i]=\"Ola\"  \n",
    "    elif data[\"StartupName\"][i] ==\"Flipkart.com\":\n",
    "        data[\"StartupName\"][i]=\"Flipkart\"    \n",
    "    elif data[\"StartupName\"][i] ==\"Paytm Marketplace\":\n",
    "        data[\"StartupName\"][i]=\"Paytm\"   \n",
    "for i in range(0,len(data[\"StartupName\"])):\n",
    "  if data[\"InvestorsName\"][i] in ['Undisclosed investors',\n",
    "                                  'Undisclosed Investors',\n",
    "                                  'Undisclosed',\n",
    "                                  'Undisclosed investor',\n",
    "                                  'Undisclosed Investor',\n",
    "                                  'undisclosed investors']:\n",
    "    data[\"InvestorsName\"][i]=\"Undisclosed\"\n",
    "    \n",
    "for i in range(0,len(data[\"StartupName\"])):\n",
    "    if data[\"StartupName\"][i] in [\"OYO\",\n",
    "                                  \"OYO Rooms\", \n",
    "                                  \"OyoRooms\", \n",
    "                                  \"Oyorooms\", \n",
    "                                  \"Oyo\",\n",
    "                                 \"Oyo Rooms\"]:\n",
    "        data[\"StartupName\"][i]= \"OYO Rooms\"\n",
    "    elif data[\"StartupName\"][i] in [\"Byjuxe2x80x99s\",\n",
    "                                    \"BYJU'S\"]:\n",
    "        data[\"StartupName\"][i]= \"Byju's\"    \n",
    "    \n",
    "for i in range  (0,len(data[\"CityLocation\"])):\n",
    "    if data[\"CityLocation\"][i] in [\"New Delhi\",\n",
    "                                   \"Delhi\",\n",
    "                                   \"Noida\", \n",
    "                                   \"Gurugram\",\n",
    "                                   \"Gurgaon\"]:\n",
    "        data[\"CityLocation\"][i]=\"NCR\"\n",
    "    elif data[\"CityLocation\"][i]==\"Bangalore\":\n",
    "        data[\"CityLocation\"][i]=\"Bengaluru\"\n",
    "\n",
    "data.loc[data['CityLocation'].isin(['\\\\\\\\xc2\\\\\\\\xa0Noida', '\\\\xc2\\\\xa0Noida']), 'CityLocation'] = 'Noida'\n",
    "data.loc[data['CityLocation'].isin(['\\\\\\\\xc2\\\\\\\\xa0Bangalore', '\\\\xc2\\\\xa0Bangalore', 'Bangalore']), 'CityLocation'] = 'Bengaluru'\n",
    "data.loc[data['CityLocation'].isin(['\\\\\\\\xc2\\\\\\\\xa0New Delhi', '\\\\xc2\\\\xa0New Delhi']), 'CityLocation'] = 'New Delhi'\n",
    "data.loc[data['CityLocation'].isin(['\\\\\\\\xc2\\\\\\\\xa0Gurgaon', 'Gurugram']), 'CityLocation'] = 'Gurgaon'\n",
    "data.loc[data['CityLocation'].isin(['\\\\\\\\xc2\\\\\\\\xa0Mumbai', '\\\\xc2\\\\xa0Mumbai']), 'CityLocation'] = 'Mumbai'\n",
    "        \n",
    "\n",
    "data.loc[data['IndustryVertical'] == \"\\\\\\\\xc2\\\\\\\\xa0News Aggregator mobile app\", 'IndustryVertical'] = 'News Aggregator mobile app'\n",
    "data.loc[data['IndustryVertical'] == \"\\\\\\\\xc2\\\\\\\\xa0Online Jewellery Store\", 'IndustryVertical'] = 'Online Jewellery Store'\n",
    "data.loc[data['IndustryVertical'] == \"\\\\\\\\xc2\\\\\\\\xa0Fashion Info Aggregator App\", 'IndustryVertical'] = 'Fashion Info Aggregator App'\n",
    "data.loc[data['IndustryVertical'] == \"\\\\\\\\xc2\\\\\\\\xa0Online Study Notes Marketplace\", 'IndustryVertical'] = 'Online Study Notes Marketplace'\n",
    "data.loc[data['IndustryVertical'] == \"\\\\\\\\xc2\\\\\\\\xa0Warranty Programs Service Administration\", 'IndustryVertical'] = 'Warranty Programs Service Administration'\n",
    "data.loc[data['IndustryVertical'] == \"\\\\\\\\xc2\\\\\\\\xa0Pre-School Chain\", 'IndustryVertical'] = 'Pre-School Chain'\n",
    "data.loc[data['IndustryVertical'] == \"\\\\\\\\xc2\\\\\\\\xa0Premium Loyalty Rewards Point Management\", 'IndustryVertical'] = 'Premium Loyalty Rewards Point Management'\n",
    "data.loc[data['IndustryVertical'] == \"\\\\\\\\xc2\\\\\\\\xa0Contact Center Software Platform\", 'IndustryVertical'] = 'Contact Center Software Platform'\n",
    "data.loc[data['IndustryVertical'] == \"\\\\\\\\xc2\\\\\\\\xa0Casual Dining restaurant Chain\", 'IndustryVertical'] = 'Casual Dining restaurant Chain'\n",
    "data.loc[data['IndustryVertical'] == \"\\\\\\\\xc2\\\\\\\\xa0Online Grocery Delivery\", 'IndustryVertical'] = 'Online Grocery Delivery'\n",
    "data.loc[data['IndustryVertical'] == \"Online home d\\\\\\\\xc3\\\\\\\\xa9cor marketplace\", 'IndustryVertical'] = 'Online home decor marketplace'\n",
    "data.loc[data['IndustryVertical'].isin([\"Fin-Tech\"]), 'IndustryVertical'] = 'FinTech'   \n",
    "\n",
    "data.loc[data['InvestorsName'].isin(['Undisclosed investors', 'Undisclosed', 'undisclosed investors', 'Undisclosed Investor', 'Undisclosed investors']), 'InvestorsName'] = 'Undisclosed Investors'\n",
    "data.loc[data['InvestorsName'] == \"\\\\\\\\xc2\\\\\\\\xa0Tiger Global\", 'InvestorsName'] = 'Tiger Global'\n",
    "data.loc[data['InvestorsName'] == \"\\\\\\\\xc2\\\\\\\\xa0IndianIdeas.com\", 'InvestorsName'] = 'IndianIdeas'\n",
    "data.loc[data['InvestorsName'] == \"\\\\\\\\xc2\\\\\\\\xa0IvyCap Ventures, Accel Partners, Dragoneer Investment Group\", 'InvestorsName'] = 'IvyCap Ventures, Accel Partners, Dragoneer Investment Group'\n",
    "data.loc[data['InvestorsName'] == \"\\\\\\\\xc2\\\\\\\\xa0Goldman Sachs\", 'InvestorsName'] = 'Goldman Sachs'"
   ]
  },
  {
   "cell_type": "code",
   "execution_count": 7,
   "id": "048c5f4d",
   "metadata": {},
   "outputs": [
    {
     "data": {
      "text/plain": [
       "SNo                 100.000000\n",
       "Date                100.000000\n",
       "StartupName         100.000000\n",
       "IndustryVertical     94.382392\n",
       "SubVertical          69.250986\n",
       "CityLocation         94.086728\n",
       "InvestorsName        99.211564\n",
       "InvestmentType       99.868594\n",
       "AmountInUSD          68.462549\n",
       "Remarks              13.764783\n",
       "dtype: float64"
      ]
     },
     "metadata": {},
     "output_type": "display_data"
    },
    {
     "data": {
      "text/plain": [
       "SNo                  0.000000\n",
       "Date                 0.000000\n",
       "StartupName          0.000000\n",
       "IndustryVertical     5.617608\n",
       "SubVertical         30.749014\n",
       "CityLocation         5.913272\n",
       "InvestorsName        0.788436\n",
       "InvestmentType       0.131406\n",
       "AmountInUSD         31.537451\n",
       "Remarks             86.235217\n",
       "dtype: float64"
      ]
     },
     "metadata": {},
     "output_type": "display_data"
    }
   ],
   "source": [
    "# Lets see percentage of present values in every column\n",
    "#data.isnull().sum()\n",
    "p=((data.count()/data.isna().count())*100)\n",
    "display(p)\n",
    "# Alternate: Lets see percentage of missing values in every column\n",
    "m=(100-(data.count()/data.isna().count())*100)\n",
    "display(m)"
   ]
  },
  {
   "cell_type": "code",
   "execution_count": 8,
   "id": "16c512ee",
   "metadata": {},
   "outputs": [
    {
     "data": {
      "text/html": [
       "<div>\n",
       "<style scoped>\n",
       "    .dataframe tbody tr th:only-of-type {\n",
       "        vertical-align: middle;\n",
       "    }\n",
       "\n",
       "    .dataframe tbody tr th {\n",
       "        vertical-align: top;\n",
       "    }\n",
       "\n",
       "    .dataframe thead th {\n",
       "        text-align: right;\n",
       "    }\n",
       "</style>\n",
       "<table border=\"1\" class=\"dataframe\">\n",
       "  <thead>\n",
       "    <tr style=\"text-align: right;\">\n",
       "      <th></th>\n",
       "      <th>SNo</th>\n",
       "      <th>Date</th>\n",
       "      <th>StartupName</th>\n",
       "      <th>IndustryVertical</th>\n",
       "      <th>SubVertical</th>\n",
       "      <th>CityLocation</th>\n",
       "      <th>InvestorsName</th>\n",
       "      <th>InvestmentType</th>\n",
       "      <th>AmountInUSD</th>\n",
       "    </tr>\n",
       "  </thead>\n",
       "  <tbody>\n",
       "    <tr>\n",
       "      <th>0</th>\n",
       "      <td>1</td>\n",
       "      <td>09/01/2020</td>\n",
       "      <td>BYJU’S</td>\n",
       "      <td>E-Tech</td>\n",
       "      <td>E-learning</td>\n",
       "      <td>Bengaluru</td>\n",
       "      <td>Tiger Global Management</td>\n",
       "      <td>Private Equity Round</td>\n",
       "      <td>20,00,00,000</td>\n",
       "    </tr>\n",
       "    <tr>\n",
       "      <th>1</th>\n",
       "      <td>2</td>\n",
       "      <td>13/01/2020</td>\n",
       "      <td>Shuttl</td>\n",
       "      <td>Transportation</td>\n",
       "      <td>App based shuttle service</td>\n",
       "      <td>NCR</td>\n",
       "      <td>Susquehanna Growth Equity</td>\n",
       "      <td>Series C</td>\n",
       "      <td>80,48,394</td>\n",
       "    </tr>\n",
       "    <tr>\n",
       "      <th>2</th>\n",
       "      <td>3</td>\n",
       "      <td>09/01/2020</td>\n",
       "      <td>Mamaearth</td>\n",
       "      <td>eCommerce</td>\n",
       "      <td>Retailer of baby and toddler products</td>\n",
       "      <td>Bengaluru</td>\n",
       "      <td>Sequoia Capital India</td>\n",
       "      <td>Series B</td>\n",
       "      <td>1,83,58,860</td>\n",
       "    </tr>\n",
       "    <tr>\n",
       "      <th>3</th>\n",
       "      <td>4</td>\n",
       "      <td>02/01/2020</td>\n",
       "      <td>https://www.wealthbucket.in/</td>\n",
       "      <td>FinTech</td>\n",
       "      <td>Online Investment</td>\n",
       "      <td>NCR</td>\n",
       "      <td>Vinod Khatumal</td>\n",
       "      <td>Pre-series A</td>\n",
       "      <td>30,00,000</td>\n",
       "    </tr>\n",
       "    <tr>\n",
       "      <th>4</th>\n",
       "      <td>5</td>\n",
       "      <td>02/01/2020</td>\n",
       "      <td>Fashor</td>\n",
       "      <td>Fashion and Apparel</td>\n",
       "      <td>Embroiled Clothes For Women</td>\n",
       "      <td>Mumbai</td>\n",
       "      <td>Sprout Venture Partners</td>\n",
       "      <td>Seed Round</td>\n",
       "      <td>18,00,000</td>\n",
       "    </tr>\n",
       "  </tbody>\n",
       "</table>\n",
       "</div>"
      ],
      "text/plain": [
       "   SNo        Date                   StartupName     IndustryVertical  \\\n",
       "0    1  09/01/2020                        BYJU’S               E-Tech   \n",
       "1    2  13/01/2020                        Shuttl       Transportation   \n",
       "2    3  09/01/2020                     Mamaearth            eCommerce   \n",
       "3    4  02/01/2020  https://www.wealthbucket.in/              FinTech   \n",
       "4    5  02/01/2020                        Fashor  Fashion and Apparel   \n",
       "\n",
       "                             SubVertical CityLocation  \\\n",
       "0                             E-learning    Bengaluru   \n",
       "1              App based shuttle service          NCR   \n",
       "2  Retailer of baby and toddler products    Bengaluru   \n",
       "3                      Online Investment          NCR   \n",
       "4            Embroiled Clothes For Women       Mumbai   \n",
       "\n",
       "               InvestorsName        InvestmentType   AmountInUSD  \n",
       "0    Tiger Global Management  Private Equity Round  20,00,00,000  \n",
       "1  Susquehanna Growth Equity              Series C     80,48,394  \n",
       "2      Sequoia Capital India              Series B   1,83,58,860  \n",
       "3             Vinod Khatumal          Pre-series A     30,00,000  \n",
       "4    Sprout Venture Partners            Seed Round     18,00,000  "
      ]
     },
     "execution_count": 8,
     "metadata": {},
     "output_type": "execute_result"
    }
   ],
   "source": [
    "data.drop(\"Remarks\", axis=1, inplace=True)\n",
    "data.head()"
   ]
  },
  {
   "cell_type": "code",
   "execution_count": 9,
   "id": "eda708ac",
   "metadata": {},
   "outputs": [
    {
     "data": {
      "text/plain": [
       "0    20,00,00,000\n",
       "1       80,48,394\n",
       "Name: AmountInUSD, dtype: object"
      ]
     },
     "execution_count": 9,
     "metadata": {},
     "output_type": "execute_result"
    }
   ],
   "source": [
    "data2=data.copy()\n",
    "data2[\"AmountInUSD\"].head(2)"
   ]
  },
  {
   "cell_type": "code",
   "execution_count": 10,
   "id": "e49fa3e8",
   "metadata": {},
   "outputs": [],
   "source": [
    "def DateFormatting(dates):\n",
    "    try:\n",
    "        date = pd.to_datetime(dates,format='%d/%m/%Y')\n",
    "    except(Exception)as e:\n",
    "        return pd.to_datetime(\"05/07/2018\",format='%d/%m/%Y') if(dates == '05/072018') else None\n",
    "        return pd.to_datetime(\"07/01/2015\",format='%d/%m/%Y') if(dates == '15-01-07 00:00:00') else None\n",
    "        return pd.to_datetime(\"10/7/2015\",format='%d/%m/%Y') if(dates == '\\\\xc2\\\\xa010/7/2015') else None\n",
    "        return pd.to_datetime(\"22/01/2015\",format='%d/%m/%Y') if(dates == '22/01//2015') else None\n",
    "    else:\n",
    "        return date\n",
    "        \n",
    "    \n",
    "\n",
    "data['Date'] = data['Date'].apply(DateFormatting)"
   ]
  },
  {
   "cell_type": "code",
   "execution_count": 11,
   "id": "1d623676",
   "metadata": {},
   "outputs": [],
   "source": [
    "import re"
   ]
  },
  {
   "cell_type": "code",
   "execution_count": 12,
   "id": "d162bc00",
   "metadata": {},
   "outputs": [],
   "source": [
    "exceptionList =['unknown','Undisclosed','undisclosed']\n",
    "def ConvertingDataIntoFloat(money):\n",
    "    match = ''\n",
    "    if((type(money)!=float)):\n",
    "        match = re.match(r'(\\\\\\\\xc2\\\\\\\\xa0)(.*)',money)\n",
    "    try:\n",
    "        if(money not in exceptionList and (type(money)!=float) and bool(re.match(r'\\\\\\\\xc2\\\\\\\\xa0.*',money))==False):\n",
    "            if('+' in money and (',' in money)):\n",
    "                return float(money.replace('+','').replace(',',''))\n",
    "            elif('+' in money and (',' in money)!=True):\n",
    "                return float(money.replace('+',''))\n",
    "            elif(',' in money):\n",
    "                return float(money.replace(',',''))\n",
    "        elif(money in exceptionList):\n",
    "            return np.nan\n",
    "        elif(match):\n",
    "            if(match.group(2)=='N/A'):\n",
    "                return np.nan\n",
    "            else:\n",
    "                return float(match.group(2).replace(',',''))\n",
    "    except(Exception)as e:\n",
    "        print(e,end='\\t')\n",
    "        print(money)\n",
    "    else:\n",
    "        if(type(money)==str):\n",
    "            return float(money)\n",
    "        else:\n",
    "            return money\n",
    "        \n",
    "data['AmountInUSD'] = data['AmountInUSD'].apply(ConvertingDataIntoFloat)"
   ]
  },
  {
   "cell_type": "code",
   "execution_count": 13,
   "id": "d370e4da",
   "metadata": {
    "scrolled": true
   },
   "outputs": [
    {
     "data": {
      "text/plain": [
       "SNo                   0\n",
       "Date                  7\n",
       "StartupName           0\n",
       "IndustryVertical    171\n",
       "SubVertical         936\n",
       "CityLocation        180\n",
       "InvestorsName        24\n",
       "InvestmentType        4\n",
       "AmountInUSD         971\n",
       "dtype: int64"
      ]
     },
     "execution_count": 13,
     "metadata": {},
     "output_type": "execute_result"
    }
   ],
   "source": [
    "df1=data.copy()\n",
    "df1.isna().sum()"
   ]
  },
  {
   "cell_type": "code",
   "execution_count": 14,
   "id": "5f045720",
   "metadata": {},
   "outputs": [],
   "source": [
    "df1['InvestmentType']=df1['InvestmentType'].fillna(method='ffill')\n",
    "df1['IndustryVertical']=df1['IndustryVertical'].fillna(method='ffill')\n",
    "df1['CityLocation']=df1['CityLocation'].fillna(method='ffill')\n",
    "df1['SubVertical']=df1['SubVertical'].fillna(method='ffill')\n",
    "df1[\"AmountInUSD\"]=df1[\"AmountInUSD\"].fillna(0)"
   ]
  },
  {
   "cell_type": "code",
   "execution_count": 15,
   "id": "324ce06a",
   "metadata": {},
   "outputs": [
    {
     "data": {
      "text/html": [
       "<div>\n",
       "<style scoped>\n",
       "    .dataframe tbody tr th:only-of-type {\n",
       "        vertical-align: middle;\n",
       "    }\n",
       "\n",
       "    .dataframe tbody tr th {\n",
       "        vertical-align: top;\n",
       "    }\n",
       "\n",
       "    .dataframe thead th {\n",
       "        text-align: right;\n",
       "    }\n",
       "</style>\n",
       "<table border=\"1\" class=\"dataframe\">\n",
       "  <thead>\n",
       "    <tr style=\"text-align: right;\">\n",
       "      <th></th>\n",
       "      <th>SNo</th>\n",
       "      <th>Date</th>\n",
       "      <th>IndustryVertical</th>\n",
       "      <th>SubVertical</th>\n",
       "      <th>CityLocation</th>\n",
       "      <th>InvestmentType</th>\n",
       "      <th>AmountInUSD</th>\n",
       "    </tr>\n",
       "  </thead>\n",
       "  <tbody>\n",
       "    <tr>\n",
       "      <th>0</th>\n",
       "      <td>1</td>\n",
       "      <td>2020-01-09</td>\n",
       "      <td>E-Tech</td>\n",
       "      <td>E-learning</td>\n",
       "      <td>Bengaluru</td>\n",
       "      <td>Private Equity Round</td>\n",
       "      <td>200000000.0</td>\n",
       "    </tr>\n",
       "    <tr>\n",
       "      <th>1</th>\n",
       "      <td>2</td>\n",
       "      <td>2020-01-13</td>\n",
       "      <td>Transportation</td>\n",
       "      <td>App based shuttle service</td>\n",
       "      <td>NCR</td>\n",
       "      <td>Series C</td>\n",
       "      <td>8048394.0</td>\n",
       "    </tr>\n",
       "    <tr>\n",
       "      <th>2</th>\n",
       "      <td>3</td>\n",
       "      <td>2020-01-09</td>\n",
       "      <td>eCommerce</td>\n",
       "      <td>Retailer of baby and toddler products</td>\n",
       "      <td>Bengaluru</td>\n",
       "      <td>Series B</td>\n",
       "      <td>18358860.0</td>\n",
       "    </tr>\n",
       "    <tr>\n",
       "      <th>3</th>\n",
       "      <td>4</td>\n",
       "      <td>2020-01-02</td>\n",
       "      <td>FinTech</td>\n",
       "      <td>Online Investment</td>\n",
       "      <td>NCR</td>\n",
       "      <td>Pre-series A</td>\n",
       "      <td>3000000.0</td>\n",
       "    </tr>\n",
       "    <tr>\n",
       "      <th>4</th>\n",
       "      <td>5</td>\n",
       "      <td>2020-01-02</td>\n",
       "      <td>Fashion and Apparel</td>\n",
       "      <td>Embroiled Clothes For Women</td>\n",
       "      <td>Mumbai</td>\n",
       "      <td>Seed Round</td>\n",
       "      <td>1800000.0</td>\n",
       "    </tr>\n",
       "  </tbody>\n",
       "</table>\n",
       "</div>"
      ],
      "text/plain": [
       "   SNo       Date     IndustryVertical                            SubVertical  \\\n",
       "0    1 2020-01-09               E-Tech                             E-learning   \n",
       "1    2 2020-01-13       Transportation              App based shuttle service   \n",
       "2    3 2020-01-09            eCommerce  Retailer of baby and toddler products   \n",
       "3    4 2020-01-02              FinTech                      Online Investment   \n",
       "4    5 2020-01-02  Fashion and Apparel            Embroiled Clothes For Women   \n",
       "\n",
       "  CityLocation        InvestmentType  AmountInUSD  \n",
       "0    Bengaluru  Private Equity Round  200000000.0  \n",
       "1          NCR              Series C    8048394.0  \n",
       "2    Bengaluru              Series B   18358860.0  \n",
       "3          NCR          Pre-series A    3000000.0  \n",
       "4       Mumbai            Seed Round    1800000.0  "
      ]
     },
     "execution_count": 15,
     "metadata": {},
     "output_type": "execute_result"
    }
   ],
   "source": [
    "df1=df1.drop(['StartupName','InvestorsName'],axis=1)\n",
    "df1.head()"
   ]
  },
  {
   "cell_type": "code",
   "execution_count": 16,
   "id": "a91001ed",
   "metadata": {
    "scrolled": true
   },
   "outputs": [
    {
     "data": {
      "text/plain": [
       "SNo                 0\n",
       "Date                7\n",
       "IndustryVertical    0\n",
       "SubVertical         0\n",
       "CityLocation        0\n",
       "InvestmentType      0\n",
       "AmountInUSD         0\n",
       "dtype: int64"
      ]
     },
     "execution_count": 16,
     "metadata": {},
     "output_type": "execute_result"
    }
   ],
   "source": [
    "df1.isna().sum()"
   ]
  },
  {
   "cell_type": "markdown",
   "id": "c086834a",
   "metadata": {},
   "source": [
    "## Reformat the Date Time Columns"
   ]
  },
  {
   "cell_type": "code",
   "execution_count": 17,
   "id": "796a0de4",
   "metadata": {},
   "outputs": [
    {
     "data": {
      "text/html": [
       "<div>\n",
       "<style scoped>\n",
       "    .dataframe tbody tr th:only-of-type {\n",
       "        vertical-align: middle;\n",
       "    }\n",
       "\n",
       "    .dataframe tbody tr th {\n",
       "        vertical-align: top;\n",
       "    }\n",
       "\n",
       "    .dataframe thead th {\n",
       "        text-align: right;\n",
       "    }\n",
       "</style>\n",
       "<table border=\"1\" class=\"dataframe\">\n",
       "  <thead>\n",
       "    <tr style=\"text-align: right;\">\n",
       "      <th></th>\n",
       "      <th>SNo</th>\n",
       "      <th>IndustryVertical</th>\n",
       "      <th>SubVertical</th>\n",
       "      <th>CityLocation</th>\n",
       "      <th>InvestmentType</th>\n",
       "      <th>AmountInUSD</th>\n",
       "      <th>Month</th>\n",
       "      <th>Year</th>\n",
       "      <th>Time</th>\n",
       "      <th>Week</th>\n",
       "      <th>Day</th>\n",
       "    </tr>\n",
       "    <tr>\n",
       "      <th>Date</th>\n",
       "      <th></th>\n",
       "      <th></th>\n",
       "      <th></th>\n",
       "      <th></th>\n",
       "      <th></th>\n",
       "      <th></th>\n",
       "      <th></th>\n",
       "      <th></th>\n",
       "      <th></th>\n",
       "      <th></th>\n",
       "      <th></th>\n",
       "    </tr>\n",
       "  </thead>\n",
       "  <tbody>\n",
       "    <tr>\n",
       "      <th>2020-01-09</th>\n",
       "      <td>1</td>\n",
       "      <td>E-Tech</td>\n",
       "      <td>E-learning</td>\n",
       "      <td>Bengaluru</td>\n",
       "      <td>Private Equity Round</td>\n",
       "      <td>200000000.0</td>\n",
       "      <td>1.0</td>\n",
       "      <td>2020.0</td>\n",
       "      <td>00:00:00</td>\n",
       "      <td>2.0</td>\n",
       "      <td>Thursday</td>\n",
       "    </tr>\n",
       "  </tbody>\n",
       "</table>\n",
       "</div>"
      ],
      "text/plain": [
       "            SNo IndustryVertical SubVertical CityLocation  \\\n",
       "Date                                                        \n",
       "2020-01-09    1           E-Tech  E-learning    Bengaluru   \n",
       "\n",
       "                  InvestmentType  AmountInUSD  Month    Year      Time  Week  \\\n",
       "Date                                                                           \n",
       "2020-01-09  Private Equity Round  200000000.0    1.0  2020.0  00:00:00   2.0   \n",
       "\n",
       "                 Day  \n",
       "Date                  \n",
       "2020-01-09  Thursday  "
      ]
     },
     "execution_count": 17,
     "metadata": {},
     "output_type": "execute_result"
    }
   ],
   "source": [
    "dataset = df1\n",
    "dataset[\"Month\"] = pd.to_datetime(df1[\"Date\"]).dt.month\n",
    "dataset[\"Year\"] = pd.to_datetime(df1[\"Date\"]).dt.year\n",
    "dataset[\"Date\"] = pd.to_datetime(df1[\"Date\"]).dt.date\n",
    "dataset[\"Time\"] = pd.to_datetime(df1[\"Date\"]).dt.time\n",
    "dataset[\"Week\"] = pd.to_datetime(df1[\"Date\"]).dt.week\n",
    "dataset[\"Day\"] = pd.to_datetime(df1[\"Date\"]).dt.day_name()\n",
    "dataset = df1.set_index(\"Date\")\n",
    "dataset.index = pd.to_datetime(dataset.index)\n",
    "dataset.head(1)"
   ]
  },
  {
   "cell_type": "code",
   "execution_count": 18,
   "id": "6249bf65",
   "metadata": {
    "scrolled": true
   },
   "outputs": [
    {
     "name": "stdout",
     "output_type": "stream",
     "text": [
      "[2020. 2019. 2018. 2017. 2016. 2015.   nan] \n",
      "\n",
      "Total Number of Unique Year 6 \n",
      "\n"
     ]
    }
   ],
   "source": [
    "print(df1.Year.unique(),\"\\n\")\n",
    "print(\"Total Number of Unique Year\", df1.Year.nunique(), \"\\n\")"
   ]
  },
  {
   "cell_type": "markdown",
   "id": "c633541e",
   "metadata": {},
   "source": [
    "## Resampleing Data:\n",
    "* Resampling involves changing the frequency of your time series observations.\n",
    "* Two types of resampling are:\n",
    "1. Upsampling: Where you increase the frequency of the samples, such as from minutes to seconds.\n",
    "2. Downsampling: Where you decrease the frequency of the samples, such as from days to months.\n",
    "\n",
    "We are using Downsampling"
   ]
  },
  {
   "cell_type": "code",
   "execution_count": 19,
   "id": "5f3fdf2e",
   "metadata": {},
   "outputs": [],
   "source": [
    "NewDataSet = dataset.resample('D').mean()"
   ]
  },
  {
   "cell_type": "code",
   "execution_count": 20,
   "id": "70c7a950",
   "metadata": {
    "scrolled": true
   },
   "outputs": [],
   "source": [
    "NewDataSet[\"AmountInUSD\"]=NewDataSet[\"AmountInUSD\"].ffill().bfill()"
   ]
  },
  {
   "cell_type": "code",
   "execution_count": 21,
   "id": "3d9841a5",
   "metadata": {},
   "outputs": [
    {
     "data": {
      "text/plain": [
       "0"
      ]
     },
     "execution_count": 21,
     "metadata": {},
     "output_type": "execute_result"
    }
   ],
   "source": [
    "NewDataSet[\"AmountInUSD\"].isna().sum()"
   ]
  },
  {
   "cell_type": "code",
   "execution_count": 22,
   "id": "a0a02514",
   "metadata": {
    "scrolled": false
   },
   "outputs": [
    {
     "name": "stdout",
     "output_type": "stream",
     "text": [
      "Old Dataset  (3044, 11)\n",
      "New  Dataset  (1838, 5)\n"
     ]
    }
   ],
   "source": [
    "print(\"Old Dataset \",dataset.shape )\n",
    "print(\"New  Dataset \",NewDataSet.shape )"
   ]
  },
  {
   "cell_type": "code",
   "execution_count": 23,
   "id": "28c389d4",
   "metadata": {},
   "outputs": [
    {
     "data": {
      "text/html": [
       "<div>\n",
       "<style scoped>\n",
       "    .dataframe tbody tr th:only-of-type {\n",
       "        vertical-align: middle;\n",
       "    }\n",
       "\n",
       "    .dataframe tbody tr th {\n",
       "        vertical-align: top;\n",
       "    }\n",
       "\n",
       "    .dataframe thead th {\n",
       "        text-align: right;\n",
       "    }\n",
       "</style>\n",
       "<table border=\"1\" class=\"dataframe\">\n",
       "  <thead>\n",
       "    <tr style=\"text-align: right;\">\n",
       "      <th></th>\n",
       "      <th>SNo</th>\n",
       "      <th>AmountInUSD</th>\n",
       "      <th>Month</th>\n",
       "      <th>Year</th>\n",
       "      <th>Week</th>\n",
       "    </tr>\n",
       "    <tr>\n",
       "      <th>Date</th>\n",
       "      <th></th>\n",
       "      <th></th>\n",
       "      <th></th>\n",
       "      <th></th>\n",
       "      <th></th>\n",
       "    </tr>\n",
       "  </thead>\n",
       "  <tbody>\n",
       "    <tr>\n",
       "      <th>2015-01-02</th>\n",
       "      <td>2990.5</td>\n",
       "      <td>1232500.0</td>\n",
       "      <td>1.0</td>\n",
       "      <td>2015.0</td>\n",
       "      <td>1.0</td>\n",
       "    </tr>\n",
       "    <tr>\n",
       "      <th>2015-01-03</th>\n",
       "      <td>NaN</td>\n",
       "      <td>1232500.0</td>\n",
       "      <td>NaN</td>\n",
       "      <td>NaN</td>\n",
       "      <td>NaN</td>\n",
       "    </tr>\n",
       "    <tr>\n",
       "      <th>2015-01-04</th>\n",
       "      <td>NaN</td>\n",
       "      <td>1232500.0</td>\n",
       "      <td>NaN</td>\n",
       "      <td>NaN</td>\n",
       "      <td>NaN</td>\n",
       "    </tr>\n",
       "    <tr>\n",
       "      <th>2015-01-05</th>\n",
       "      <td>2993.0</td>\n",
       "      <td>3505000.0</td>\n",
       "      <td>1.0</td>\n",
       "      <td>2015.0</td>\n",
       "      <td>2.0</td>\n",
       "    </tr>\n",
       "    <tr>\n",
       "      <th>2015-01-06</th>\n",
       "      <td>2997.0</td>\n",
       "      <td>2377000.0</td>\n",
       "      <td>1.0</td>\n",
       "      <td>2015.0</td>\n",
       "      <td>2.0</td>\n",
       "    </tr>\n",
       "    <tr>\n",
       "      <th>...</th>\n",
       "      <td>...</td>\n",
       "      <td>...</td>\n",
       "      <td>...</td>\n",
       "      <td>...</td>\n",
       "      <td>...</td>\n",
       "    </tr>\n",
       "    <tr>\n",
       "      <th>2020-01-09</th>\n",
       "      <td>2.0</td>\n",
       "      <td>109179430.0</td>\n",
       "      <td>1.0</td>\n",
       "      <td>2020.0</td>\n",
       "      <td>2.0</td>\n",
       "    </tr>\n",
       "    <tr>\n",
       "      <th>2020-01-10</th>\n",
       "      <td>7.0</td>\n",
       "      <td>150000000.0</td>\n",
       "      <td>1.0</td>\n",
       "      <td>2020.0</td>\n",
       "      <td>2.0</td>\n",
       "    </tr>\n",
       "    <tr>\n",
       "      <th>2020-01-11</th>\n",
       "      <td>NaN</td>\n",
       "      <td>150000000.0</td>\n",
       "      <td>NaN</td>\n",
       "      <td>NaN</td>\n",
       "      <td>NaN</td>\n",
       "    </tr>\n",
       "    <tr>\n",
       "      <th>2020-01-12</th>\n",
       "      <td>NaN</td>\n",
       "      <td>150000000.0</td>\n",
       "      <td>NaN</td>\n",
       "      <td>NaN</td>\n",
       "      <td>NaN</td>\n",
       "    </tr>\n",
       "    <tr>\n",
       "      <th>2020-01-13</th>\n",
       "      <td>4.0</td>\n",
       "      <td>8524197.0</td>\n",
       "      <td>1.0</td>\n",
       "      <td>2020.0</td>\n",
       "      <td>3.0</td>\n",
       "    </tr>\n",
       "  </tbody>\n",
       "</table>\n",
       "<p>1838 rows × 5 columns</p>\n",
       "</div>"
      ],
      "text/plain": [
       "               SNo  AmountInUSD  Month    Year  Week\n",
       "Date                                                \n",
       "2015-01-02  2990.5    1232500.0    1.0  2015.0   1.0\n",
       "2015-01-03     NaN    1232500.0    NaN     NaN   NaN\n",
       "2015-01-04     NaN    1232500.0    NaN     NaN   NaN\n",
       "2015-01-05  2993.0    3505000.0    1.0  2015.0   2.0\n",
       "2015-01-06  2997.0    2377000.0    1.0  2015.0   2.0\n",
       "...            ...          ...    ...     ...   ...\n",
       "2020-01-09     2.0  109179430.0    1.0  2020.0   2.0\n",
       "2020-01-10     7.0  150000000.0    1.0  2020.0   2.0\n",
       "2020-01-11     NaN  150000000.0    NaN     NaN   NaN\n",
       "2020-01-12     NaN  150000000.0    NaN     NaN   NaN\n",
       "2020-01-13     4.0    8524197.0    1.0  2020.0   3.0\n",
       "\n",
       "[1838 rows x 5 columns]"
      ]
     },
     "execution_count": 23,
     "metadata": {},
     "output_type": "execute_result"
    }
   ],
   "source": [
    "NewDataSet"
   ]
  },
  {
   "cell_type": "code",
   "execution_count": 24,
   "id": "1b84c723",
   "metadata": {},
   "outputs": [],
   "source": [
    "NewDataSet=NewDataSet.drop([\"SNo\"],axis=1)"
   ]
  },
  {
   "cell_type": "code",
   "execution_count": 25,
   "id": "000f6806",
   "metadata": {},
   "outputs": [
    {
     "data": {
      "text/html": [
       "<div>\n",
       "<style scoped>\n",
       "    .dataframe tbody tr th:only-of-type {\n",
       "        vertical-align: middle;\n",
       "    }\n",
       "\n",
       "    .dataframe tbody tr th {\n",
       "        vertical-align: top;\n",
       "    }\n",
       "\n",
       "    .dataframe thead th {\n",
       "        text-align: right;\n",
       "    }\n",
       "</style>\n",
       "<table border=\"1\" class=\"dataframe\">\n",
       "  <thead>\n",
       "    <tr style=\"text-align: right;\">\n",
       "      <th></th>\n",
       "      <th>AmountInUSD</th>\n",
       "    </tr>\n",
       "    <tr>\n",
       "      <th>Date</th>\n",
       "      <th></th>\n",
       "    </tr>\n",
       "  </thead>\n",
       "  <tbody>\n",
       "    <tr>\n",
       "      <th>2015-01-02</th>\n",
       "      <td>1232500.0</td>\n",
       "    </tr>\n",
       "    <tr>\n",
       "      <th>2015-01-03</th>\n",
       "      <td>1232500.0</td>\n",
       "    </tr>\n",
       "    <tr>\n",
       "      <th>2015-01-04</th>\n",
       "      <td>1232500.0</td>\n",
       "    </tr>\n",
       "    <tr>\n",
       "      <th>2015-01-05</th>\n",
       "      <td>3505000.0</td>\n",
       "    </tr>\n",
       "    <tr>\n",
       "      <th>2015-01-06</th>\n",
       "      <td>2377000.0</td>\n",
       "    </tr>\n",
       "    <tr>\n",
       "      <th>...</th>\n",
       "      <td>...</td>\n",
       "    </tr>\n",
       "    <tr>\n",
       "      <th>2020-01-09</th>\n",
       "      <td>109179430.0</td>\n",
       "    </tr>\n",
       "    <tr>\n",
       "      <th>2020-01-10</th>\n",
       "      <td>150000000.0</td>\n",
       "    </tr>\n",
       "    <tr>\n",
       "      <th>2020-01-11</th>\n",
       "      <td>150000000.0</td>\n",
       "    </tr>\n",
       "    <tr>\n",
       "      <th>2020-01-12</th>\n",
       "      <td>150000000.0</td>\n",
       "    </tr>\n",
       "    <tr>\n",
       "      <th>2020-01-13</th>\n",
       "      <td>8524197.0</td>\n",
       "    </tr>\n",
       "  </tbody>\n",
       "</table>\n",
       "<p>1838 rows × 1 columns</p>\n",
       "</div>"
      ],
      "text/plain": [
       "            AmountInUSD\n",
       "Date                   \n",
       "2015-01-02    1232500.0\n",
       "2015-01-03    1232500.0\n",
       "2015-01-04    1232500.0\n",
       "2015-01-05    3505000.0\n",
       "2015-01-06    2377000.0\n",
       "...                 ...\n",
       "2020-01-09  109179430.0\n",
       "2020-01-10  150000000.0\n",
       "2020-01-11  150000000.0\n",
       "2020-01-12  150000000.0\n",
       "2020-01-13    8524197.0\n",
       "\n",
       "[1838 rows x 1 columns]"
      ]
     },
     "execution_count": 25,
     "metadata": {},
     "output_type": "execute_result"
    }
   ],
   "source": [
    "NewDataSet.iloc[:,0:1]\n"
   ]
  },
  {
   "cell_type": "code",
   "execution_count": 34,
   "id": "eb930968",
   "metadata": {},
   "outputs": [],
   "source": [
    "TestData = NewDataSet.tail(100)\n",
    "\n",
    "Training_Set = NewDataSet.iloc[:,0:1]\n",
    "\n",
    "Training_Set = Training_Set[:-60]"
   ]
  },
  {
   "cell_type": "code",
   "execution_count": 27,
   "id": "b8124993",
   "metadata": {},
   "outputs": [
    {
     "data": {
      "text/html": [
       "<div>\n",
       "<style scoped>\n",
       "    .dataframe tbody tr th:only-of-type {\n",
       "        vertical-align: middle;\n",
       "    }\n",
       "\n",
       "    .dataframe tbody tr th {\n",
       "        vertical-align: top;\n",
       "    }\n",
       "\n",
       "    .dataframe thead th {\n",
       "        text-align: right;\n",
       "    }\n",
       "</style>\n",
       "<table border=\"1\" class=\"dataframe\">\n",
       "  <thead>\n",
       "    <tr style=\"text-align: right;\">\n",
       "      <th></th>\n",
       "      <th>AmountInUSD</th>\n",
       "    </tr>\n",
       "    <tr>\n",
       "      <th>Date</th>\n",
       "      <th></th>\n",
       "    </tr>\n",
       "  </thead>\n",
       "  <tbody>\n",
       "    <tr>\n",
       "      <th>2015-01-02</th>\n",
       "      <td>1232500.0</td>\n",
       "    </tr>\n",
       "    <tr>\n",
       "      <th>2015-01-03</th>\n",
       "      <td>1232500.0</td>\n",
       "    </tr>\n",
       "    <tr>\n",
       "      <th>2015-01-04</th>\n",
       "      <td>1232500.0</td>\n",
       "    </tr>\n",
       "    <tr>\n",
       "      <th>2015-01-05</th>\n",
       "      <td>3505000.0</td>\n",
       "    </tr>\n",
       "    <tr>\n",
       "      <th>2015-01-06</th>\n",
       "      <td>2377000.0</td>\n",
       "    </tr>\n",
       "    <tr>\n",
       "      <th>...</th>\n",
       "      <td>...</td>\n",
       "    </tr>\n",
       "    <tr>\n",
       "      <th>2019-11-10</th>\n",
       "      <td>0.0</td>\n",
       "    </tr>\n",
       "    <tr>\n",
       "      <th>2019-11-11</th>\n",
       "      <td>300000.0</td>\n",
       "    </tr>\n",
       "    <tr>\n",
       "      <th>2019-11-12</th>\n",
       "      <td>1300000.0</td>\n",
       "    </tr>\n",
       "    <tr>\n",
       "      <th>2019-11-13</th>\n",
       "      <td>75750000.0</td>\n",
       "    </tr>\n",
       "    <tr>\n",
       "      <th>2019-11-14</th>\n",
       "      <td>486000.0</td>\n",
       "    </tr>\n",
       "  </tbody>\n",
       "</table>\n",
       "<p>1778 rows × 1 columns</p>\n",
       "</div>"
      ],
      "text/plain": [
       "            AmountInUSD\n",
       "Date                   \n",
       "2015-01-02    1232500.0\n",
       "2015-01-03    1232500.0\n",
       "2015-01-04    1232500.0\n",
       "2015-01-05    3505000.0\n",
       "2015-01-06    2377000.0\n",
       "...                 ...\n",
       "2019-11-10          0.0\n",
       "2019-11-11     300000.0\n",
       "2019-11-12    1300000.0\n",
       "2019-11-13   75750000.0\n",
       "2019-11-14     486000.0\n",
       "\n",
       "[1778 rows x 1 columns]"
      ]
     },
     "execution_count": 27,
     "metadata": {},
     "output_type": "execute_result"
    }
   ],
   "source": [
    "Training_Set"
   ]
  },
  {
   "cell_type": "code",
   "execution_count": 28,
   "id": "a382a95b",
   "metadata": {},
   "outputs": [
    {
     "name": "stdout",
     "output_type": "stream",
     "text": [
      "Training Set Shape  (1778, 1)\n",
      "Test Set Shape  (100, 4)\n"
     ]
    }
   ],
   "source": [
    "print(\"Training Set Shape \", Training_Set.shape)\n",
    "print(\"Test Set Shape \", TestData.shape)"
   ]
  },
  {
   "cell_type": "code",
   "execution_count": 29,
   "id": "23199721",
   "metadata": {},
   "outputs": [],
   "source": [
    "from sklearn.preprocessing import MinMaxScaler\n",
    "Training_Set = Training_Set.values\n",
    "sc = MinMaxScaler(feature_range=(0, 1))\n",
    "Train = sc.fit_transform(Training_Set)\n"
   ]
  },
  {
   "cell_type": "code",
   "execution_count": 30,
   "id": "f83be0da",
   "metadata": {},
   "outputs": [
    {
     "name": "stdout",
     "output_type": "stream",
     "text": [
      "(1718, 60, 1)\n",
      "(1718, 1)\n"
     ]
    }
   ],
   "source": [
    "X_Train = []\n",
    "Y_Train = []\n",
    "\n",
    "# Range should be fromm 60 Values to END \n",
    "for i in range(60, Train.shape[0]):\n",
    "    \n",
    "    # X_Train 0-59 \n",
    "    X_Train.append(Train[i-60:i])\n",
    "    \n",
    "    # Y Would be 60 th Value based on past 60 Values \n",
    "    Y_Train.append(Train[i])\n",
    "\n",
    "# Convert into Numpy Array\n",
    "X_Train = np.array(X_Train)\n",
    "Y_Train = np.array(Y_Train)\n",
    "\n",
    "print(X_Train.shape)\n",
    "print(Y_Train.shape)"
   ]
  },
  {
   "cell_type": "code",
   "execution_count": 31,
   "id": "e1a47456",
   "metadata": {},
   "outputs": [
    {
     "data": {
      "text/plain": [
       "(1718, 60, 1)"
      ]
     },
     "execution_count": 31,
     "metadata": {},
     "output_type": "execute_result"
    }
   ],
   "source": [
    "X_Train = np.reshape(X_Train, newshape=(X_Train.shape[0], X_Train.shape[1], 1))\n",
    "X_Train.shape"
   ]
  },
  {
   "cell_type": "code",
   "execution_count": 32,
   "id": "da4a6aed",
   "metadata": {},
   "outputs": [],
   "source": [
    "import plotly.graph_objs as go\n",
    "\n",
    "#import Keras\n",
    "import keras\n",
    "from keras.layers import Dense\n",
    "from keras.models import Sequential\n",
    "from keras.optimizers import Adam \n",
    "from keras.callbacks import EarlyStopping\n",
    "from keras.utils import np_utils\n",
    "from keras.layers import LSTM\n",
    "from sklearn.model_selection import KFold, cross_val_score, train_test_split"
   ]
  },
  {
   "cell_type": "markdown",
   "id": "233fa28e",
   "metadata": {},
   "source": [
    "# Model"
   ]
  },
  {
   "cell_type": "markdown",
   "id": "6addf783",
   "metadata": {},
   "source": [
    "### Sequential model in Keras:\n",
    "It is used to build models as a simple stack of layers. First, you instantiate your Sequential model object and then, you add layers to it one by one using the add() method."
   ]
  },
  {
   "cell_type": "markdown",
   "id": "43a388b2",
   "metadata": {},
   "source": [
    "An issue with LSTMs is that they can easily overfit training data, reducing their predictive skill.\n",
    "\n",
    "Dropout is a regularization method where input and recurrent connections to LSTM units are probabilistically excluded from activation and weight updates while training a network. This has the effect of reducing overfitting and improving model performance."
   ]
  },
  {
   "cell_type": "code",
   "execution_count": 39,
   "id": "e21a6e8c",
   "metadata": {},
   "outputs": [],
   "source": [
    "from keras.layers.core import Dense, Activation, Dropout\n",
    "regressor = Sequential()\n",
    "\n",
    "# Adding the first LSTM layer and some Dropout regularisation\n",
    "regressor.add(LSTM(units = 50, return_sequences = True, input_shape = (X_Train.shape[1], 1)))\n",
    "regressor.add(Dropout(0.2))\n",
    "\n",
    "# Adding a second LSTM layer and some Dropout regularisation\n",
    "regressor.add(LSTM(units = 50, return_sequences = True))\n",
    "regressor.add(Dropout(0.2))\n",
    "\n",
    "# Adding a third LSTM layer and some Dropout regularisation\n",
    "regressor.add(LSTM(units = 50, return_sequences = True))\n",
    "regressor.add(Dropout(0.2))\n",
    "\n",
    "# Adding a fourth LSTM layer and some Dropout regularisation\n",
    "regressor.add(LSTM(units = 50))\n",
    "regressor.add(Dropout(0.2))\n",
    "\n",
    "# Adding the output layer\n",
    "regressor.add(Dense(units = 1))\n",
    "\n",
    "# Compiling the RNN\n",
    "regressor.compile(optimizer = 'adam', loss = 'mean_squared_error')"
   ]
  },
  {
   "cell_type": "code",
   "execution_count": 40,
   "id": "91cef680",
   "metadata": {},
   "outputs": [
    {
     "name": "stdout",
     "output_type": "stream",
     "text": [
      "Epoch 1/50\n",
      "54/54 [==============================] - 4s 66ms/step - loss: 0.0043\n",
      "Epoch 2/50\n",
      "54/54 [==============================] - 4s 66ms/step - loss: 0.0042\n",
      "Epoch 3/50\n",
      "54/54 [==============================] - 4s 65ms/step - loss: 0.0042\n",
      "Epoch 4/50\n",
      "54/54 [==============================] - 3s 63ms/step - loss: 0.0041\n",
      "Epoch 5/50\n",
      "54/54 [==============================] - 4s 71ms/step - loss: 0.0039\n",
      "Epoch 6/50\n",
      "54/54 [==============================] - 4s 67ms/step - loss: 0.0036\n",
      "Epoch 7/50\n",
      "54/54 [==============================] - 4s 82ms/step - loss: 0.0031\n",
      "Epoch 8/50\n",
      "54/54 [==============================] - 4s 80ms/step - loss: 0.0029\n",
      "Epoch 9/50\n",
      "54/54 [==============================] - 4s 80ms/step - loss: 0.0026\n",
      "Epoch 10/50\n",
      "54/54 [==============================] - 4s 80ms/step - loss: 0.0022\n",
      "Epoch 11/50\n",
      "54/54 [==============================] - 4s 81ms/step - loss: 0.0019\n",
      "Epoch 12/50\n",
      "54/54 [==============================] - 4s 79ms/step - loss: 0.0021\n",
      "Epoch 13/50\n",
      "54/54 [==============================] - 4s 82ms/step - loss: 0.0018\n",
      "Epoch 14/50\n",
      "54/54 [==============================] - 4s 75ms/step - loss: 0.0019\n",
      "Epoch 15/50\n",
      "54/54 [==============================] - 5s 86ms/step - loss: 0.0018\n",
      "Epoch 16/50\n",
      "54/54 [==============================] - 4s 79ms/step - loss: 0.0018\n",
      "Epoch 17/50\n",
      "54/54 [==============================] - 4s 76ms/step - loss: 0.0020\n",
      "Epoch 18/50\n",
      "54/54 [==============================] - 4s 82ms/step - loss: 0.0020\n",
      "Epoch 19/50\n",
      "54/54 [==============================] - 4s 81ms/step - loss: 0.0019\n",
      "Epoch 20/50\n",
      "54/54 [==============================] - 4s 77ms/step - loss: 0.0015\n",
      "Epoch 21/50\n",
      "54/54 [==============================] - 4s 76ms/step - loss: 0.0016\n",
      "Epoch 22/50\n",
      "54/54 [==============================] - 4s 76ms/step - loss: 0.0015\n",
      "Epoch 23/50\n",
      "54/54 [==============================] - 4s 75ms/step - loss: 0.0023\n",
      "Epoch 24/50\n",
      "54/54 [==============================] - 4s 77ms/step - loss: 0.0016\n",
      "Epoch 25/50\n",
      "54/54 [==============================] - 4s 76ms/step - loss: 0.0020\n",
      "Epoch 26/50\n",
      "54/54 [==============================] - 4s 77ms/step - loss: 0.0017\n",
      "Epoch 27/50\n",
      "54/54 [==============================] - 4s 76ms/step - loss: 0.0017\n",
      "Epoch 28/50\n",
      "54/54 [==============================] - 4s 76ms/step - loss: 0.0017\n",
      "Epoch 29/50\n",
      "54/54 [==============================] - 4s 78ms/step - loss: 0.0017\n",
      "Epoch 30/50\n",
      "54/54 [==============================] - 4s 76ms/step - loss: 0.0023\n",
      "Epoch 31/50\n",
      "54/54 [==============================] - 4s 77ms/step - loss: 0.0021\n",
      "Epoch 32/50\n",
      "54/54 [==============================] - 4s 76ms/step - loss: 0.0017\n",
      "Epoch 33/50\n",
      "54/54 [==============================] - 4s 76ms/step - loss: 0.0013\n",
      "Epoch 34/50\n",
      "54/54 [==============================] - 4s 77ms/step - loss: 0.0012\n",
      "Epoch 35/50\n",
      "54/54 [==============================] - 4s 77ms/step - loss: 0.0014\n",
      "Epoch 36/50\n",
      "54/54 [==============================] - 4s 76ms/step - loss: 0.0013\n",
      "Epoch 37/50\n",
      "54/54 [==============================] - 4s 76ms/step - loss: 0.0017\n",
      "Epoch 38/50\n",
      "54/54 [==============================] - 4s 76ms/step - loss: 0.0020\n",
      "Epoch 39/50\n",
      "54/54 [==============================] - 4s 76ms/step - loss: 0.0015\n",
      "Epoch 40/50\n",
      "54/54 [==============================] - 4s 77ms/step - loss: 0.0014\n",
      "Epoch 41/50\n",
      "54/54 [==============================] - 4s 76ms/step - loss: 0.0011\n",
      "Epoch 42/50\n",
      "54/54 [==============================] - 4s 76ms/step - loss: 0.0017\n",
      "Epoch 43/50\n",
      "54/54 [==============================] - 4s 76ms/step - loss: 0.0014\n",
      "Epoch 44/50\n",
      "54/54 [==============================] - 4s 76ms/step - loss: 0.0012\n",
      "Epoch 45/50\n",
      "54/54 [==============================] - 4s 76ms/step - loss: 0.0013\n",
      "Epoch 46/50\n",
      "54/54 [==============================] - 4s 76ms/step - loss: 0.0013\n",
      "Epoch 47/50\n",
      "54/54 [==============================] - 4s 76ms/step - loss: 0.0013\n",
      "Epoch 48/50\n",
      "54/54 [==============================] - 4s 76ms/step - loss: 0.0012\n",
      "Epoch 49/50\n",
      "54/54 [==============================] - 4s 76ms/step - loss: 0.0012\n",
      "Epoch 50/50\n",
      "54/54 [==============================] - 5s 100ms/step - loss: 0.0012\n"
     ]
    },
    {
     "data": {
      "text/plain": [
       "<tensorflow.python.keras.callbacks.History at 0x1d77bf4fe80>"
      ]
     },
     "execution_count": 40,
     "metadata": {},
     "output_type": "execute_result"
    }
   ],
   "source": [
    "regressor.fit(X_Train, Y_Train, epochs = 50, batch_size = 32)"
   ]
  },
  {
   "cell_type": "markdown",
   "id": "59807d7a",
   "metadata": {},
   "source": [
    "# Test Data"
   ]
  },
  {
   "cell_type": "code",
   "execution_count": 41,
   "id": "a7f0db53",
   "metadata": {},
   "outputs": [
    {
     "data": {
      "text/html": [
       "<div>\n",
       "<style scoped>\n",
       "    .dataframe tbody tr th:only-of-type {\n",
       "        vertical-align: middle;\n",
       "    }\n",
       "\n",
       "    .dataframe tbody tr th {\n",
       "        vertical-align: top;\n",
       "    }\n",
       "\n",
       "    .dataframe thead th {\n",
       "        text-align: right;\n",
       "    }\n",
       "</style>\n",
       "<table border=\"1\" class=\"dataframe\">\n",
       "  <thead>\n",
       "    <tr style=\"text-align: right;\">\n",
       "      <th></th>\n",
       "      <th>AmountInUSD</th>\n",
       "      <th>Month</th>\n",
       "      <th>Year</th>\n",
       "      <th>Week</th>\n",
       "    </tr>\n",
       "    <tr>\n",
       "      <th>Date</th>\n",
       "      <th></th>\n",
       "      <th></th>\n",
       "      <th></th>\n",
       "      <th></th>\n",
       "    </tr>\n",
       "  </thead>\n",
       "  <tbody>\n",
       "    <tr>\n",
       "      <th>2019-10-06</th>\n",
       "      <td>45000000.0</td>\n",
       "      <td>NaN</td>\n",
       "      <td>NaN</td>\n",
       "      <td>NaN</td>\n",
       "    </tr>\n",
       "    <tr>\n",
       "      <th>2019-10-07</th>\n",
       "      <td>45000000.0</td>\n",
       "      <td>NaN</td>\n",
       "      <td>NaN</td>\n",
       "      <td>NaN</td>\n",
       "    </tr>\n",
       "  </tbody>\n",
       "</table>\n",
       "</div>"
      ],
      "text/plain": [
       "            AmountInUSD  Month  Year  Week\n",
       "Date                                      \n",
       "2019-10-06   45000000.0    NaN   NaN   NaN\n",
       "2019-10-07   45000000.0    NaN   NaN   NaN"
      ]
     },
     "execution_count": 41,
     "metadata": {},
     "output_type": "execute_result"
    }
   ],
   "source": [
    "TestData.head(2)"
   ]
  },
  {
   "cell_type": "code",
   "execution_count": 42,
   "id": "641e4ba7",
   "metadata": {},
   "outputs": [
    {
     "data": {
      "text/plain": [
       "(100, 4)"
      ]
     },
     "execution_count": 42,
     "metadata": {},
     "output_type": "execute_result"
    }
   ],
   "source": [
    "TestData.shape"
   ]
  },
  {
   "cell_type": "code",
   "execution_count": 43,
   "id": "f02e41d7",
   "metadata": {
    "scrolled": true
   },
   "outputs": [
    {
     "data": {
      "text/plain": [
       "(1838, 4)"
      ]
     },
     "execution_count": 43,
     "metadata": {},
     "output_type": "execute_result"
    }
   ],
   "source": [
    "NewDataSet.shape"
   ]
  },
  {
   "cell_type": "code",
   "execution_count": 44,
   "id": "9a5f01b9",
   "metadata": {},
   "outputs": [
    {
     "data": {
      "text/plain": [
       "Date\n",
       "2015-01-02      1232500.0\n",
       "2015-01-03      1232500.0\n",
       "2015-01-04      1232500.0\n",
       "2015-01-05      3505000.0\n",
       "2015-01-06      2377000.0\n",
       "                 ...     \n",
       "2020-01-09    109179430.0\n",
       "2020-01-10    150000000.0\n",
       "2020-01-11    150000000.0\n",
       "2020-01-12    150000000.0\n",
       "2020-01-13      8524197.0\n",
       "Name: AmountInUSD, Length: 1838, dtype: float64"
      ]
     },
     "execution_count": 44,
     "metadata": {},
     "output_type": "execute_result"
    }
   ],
   "source": [
    "NewDataSet[\"AmountInUSD\"]"
   ]
  },
  {
   "cell_type": "code",
   "execution_count": 45,
   "id": "2b3569d2",
   "metadata": {},
   "outputs": [],
   "source": [
    "Df_Total = pd.concat((NewDataSet[[\"AmountInUSD\"]], TestData[[\"AmountInUSD\"]]), axis=0)"
   ]
  },
  {
   "cell_type": "code",
   "execution_count": 46,
   "id": "8dbf7b78",
   "metadata": {},
   "outputs": [
    {
     "data": {
      "text/plain": [
       "(1938, 1)"
      ]
     },
     "execution_count": 46,
     "metadata": {},
     "output_type": "execute_result"
    }
   ],
   "source": [
    "Df_Total.shape"
   ]
  },
  {
   "cell_type": "code",
   "execution_count": 47,
   "id": "59cfc08e",
   "metadata": {},
   "outputs": [
    {
     "data": {
      "text/plain": [
       "(160, 1)"
      ]
     },
     "execution_count": 47,
     "metadata": {},
     "output_type": "execute_result"
    }
   ],
   "source": [
    "inputs = Df_Total[len(Df_Total) - len(TestData) - 60:].values\n",
    "inputs.shape"
   ]
  },
  {
   "cell_type": "code",
   "execution_count": 48,
   "id": "91f0258b",
   "metadata": {},
   "outputs": [],
   "source": [
    "inputs = Df_Total[len(Df_Total) - len(TestData) - 60:].values\n",
    "\n",
    "# We need to Reshape\n",
    "inputs = inputs.reshape(-1,1)\n",
    "\n",
    "# Normalize the Dataset\n",
    "inputs = sc.transform(inputs)\n",
    "\n",
    "X_test = []\n",
    "for i in range(60, 160):\n",
    "    X_test.append(inputs[i-60:i])\n",
    "    \n",
    "# Convert into Numpy Array\n",
    "X_test = np.array(X_test)\n",
    "\n",
    "# Reshape before Passing to Network\n",
    "X_test = np.reshape(X_test, (X_test.shape[0], X_test.shape[1], 1))\n",
    "\n",
    "# Pass to Model \n",
    "predicted_stock_price = regressor.predict(X_test)\n",
    "\n",
    "# Do inverse Transformation to get Values \n",
    "predicted_stock_price = sc.inverse_transform(predicted_stock_price)"
   ]
  },
  {
   "cell_type": "code",
   "execution_count": 49,
   "id": "73b17dc4",
   "metadata": {},
   "outputs": [],
   "source": [
    "True_Fund = TestData[\"AmountInUSD\"].to_list()\n",
    "Predicted_Fund  = predicted_stock_price\n",
    "dates = TestData.index.to_list()"
   ]
  },
  {
   "cell_type": "code",
   "execution_count": 50,
   "id": "b37dca22",
   "metadata": {},
   "outputs": [],
   "source": [
    "Machine_Df = pd.DataFrame(data={\n",
    "    \"Date\":dates,\n",
    "    \"TrueFund\": True_Fund,\n",
    "    \"PredictedFund\":[x[0] for x in Predicted_Fund ]\n",
    "})"
   ]
  },
  {
   "cell_type": "markdown",
   "id": "60a45112",
   "metadata": {},
   "source": [
    "# Future Predicted"
   ]
  },
  {
   "cell_type": "code",
   "execution_count": 51,
   "id": "c1b37bf7",
   "metadata": {},
   "outputs": [
    {
     "data": {
      "text/html": [
       "<div>\n",
       "<style scoped>\n",
       "    .dataframe tbody tr th:only-of-type {\n",
       "        vertical-align: middle;\n",
       "    }\n",
       "\n",
       "    .dataframe tbody tr th {\n",
       "        vertical-align: top;\n",
       "    }\n",
       "\n",
       "    .dataframe thead th {\n",
       "        text-align: right;\n",
       "    }\n",
       "</style>\n",
       "<table border=\"1\" class=\"dataframe\">\n",
       "  <thead>\n",
       "    <tr style=\"text-align: right;\">\n",
       "      <th></th>\n",
       "      <th>Date</th>\n",
       "      <th>TrueFund</th>\n",
       "      <th>PredictedFund</th>\n",
       "    </tr>\n",
       "  </thead>\n",
       "  <tbody>\n",
       "    <tr>\n",
       "      <th>0</th>\n",
       "      <td>2019-10-06</td>\n",
       "      <td>45000000.0</td>\n",
       "      <td>42016772.0</td>\n",
       "    </tr>\n",
       "    <tr>\n",
       "      <th>1</th>\n",
       "      <td>2019-10-07</td>\n",
       "      <td>45000000.0</td>\n",
       "      <td>26675170.0</td>\n",
       "    </tr>\n",
       "    <tr>\n",
       "      <th>2</th>\n",
       "      <td>2019-10-08</td>\n",
       "      <td>45000000.0</td>\n",
       "      <td>21195988.0</td>\n",
       "    </tr>\n",
       "    <tr>\n",
       "      <th>3</th>\n",
       "      <td>2019-10-09</td>\n",
       "      <td>45000000.0</td>\n",
       "      <td>17937638.0</td>\n",
       "    </tr>\n",
       "    <tr>\n",
       "      <th>4</th>\n",
       "      <td>2019-10-10</td>\n",
       "      <td>45000000.0</td>\n",
       "      <td>15854116.0</td>\n",
       "    </tr>\n",
       "    <tr>\n",
       "      <th>...</th>\n",
       "      <td>...</td>\n",
       "      <td>...</td>\n",
       "      <td>...</td>\n",
       "    </tr>\n",
       "    <tr>\n",
       "      <th>95</th>\n",
       "      <td>2020-01-09</td>\n",
       "      <td>109179430.0</td>\n",
       "      <td>-24451426.0</td>\n",
       "    </tr>\n",
       "    <tr>\n",
       "      <th>96</th>\n",
       "      <td>2020-01-10</td>\n",
       "      <td>150000000.0</td>\n",
       "      <td>27160744.0</td>\n",
       "    </tr>\n",
       "    <tr>\n",
       "      <th>97</th>\n",
       "      <td>2020-01-11</td>\n",
       "      <td>150000000.0</td>\n",
       "      <td>73086264.0</td>\n",
       "    </tr>\n",
       "    <tr>\n",
       "      <th>98</th>\n",
       "      <td>2020-01-12</td>\n",
       "      <td>150000000.0</td>\n",
       "      <td>94472152.0</td>\n",
       "    </tr>\n",
       "    <tr>\n",
       "      <th>99</th>\n",
       "      <td>2020-01-13</td>\n",
       "      <td>8524197.0</td>\n",
       "      <td>104231000.0</td>\n",
       "    </tr>\n",
       "  </tbody>\n",
       "</table>\n",
       "<p>100 rows × 3 columns</p>\n",
       "</div>"
      ],
      "text/plain": [
       "         Date     TrueFund  PredictedFund\n",
       "0  2019-10-06   45000000.0     42016772.0\n",
       "1  2019-10-07   45000000.0     26675170.0\n",
       "2  2019-10-08   45000000.0     21195988.0\n",
       "3  2019-10-09   45000000.0     17937638.0\n",
       "4  2019-10-10   45000000.0     15854116.0\n",
       "..        ...          ...            ...\n",
       "95 2020-01-09  109179430.0    -24451426.0\n",
       "96 2020-01-10  150000000.0     27160744.0\n",
       "97 2020-01-11  150000000.0     73086264.0\n",
       "98 2020-01-12  150000000.0     94472152.0\n",
       "99 2020-01-13    8524197.0    104231000.0\n",
       "\n",
       "[100 rows x 3 columns]"
      ]
     },
     "execution_count": 51,
     "metadata": {},
     "output_type": "execute_result"
    }
   ],
   "source": [
    "Machine_Df"
   ]
  },
  {
   "cell_type": "code",
   "execution_count": 52,
   "id": "542cb081",
   "metadata": {},
   "outputs": [],
   "source": [
    "True_Fund = TestData[\"AmountInUSD\"].to_list()\n",
    "Predicted_Fund  = [x[0] for x in Predicted_Fund ]\n",
    "dates = TestData.index.to_list()"
   ]
  },
  {
   "cell_type": "code",
   "execution_count": 53,
   "id": "118ff036",
   "metadata": {},
   "outputs": [
    {
     "name": "stderr",
     "output_type": "stream",
     "text": [
      "No handles with labels found to put in legend.\n"
     ]
    },
    {
     "data": {
      "text/plain": [
       "<matplotlib.legend.Legend at 0x1d70afb2f28>"
      ]
     },
     "execution_count": 53,
     "metadata": {},
     "output_type": "execute_result"
    },
    {
     "data": {
      "image/png": "[encoded data removed]",
      "text/plain": [
       "<Figure size 432x288 with 1 Axes>"
      ]
     },
     "metadata": {
      "needs_background": "light"
     },
     "output_type": "display_data"
    }
   ],
   "source": [
    "fig = plt.figure()\n",
    "\n",
    "ax1= fig.add_subplot(111)\n",
    "\n",
    "x = dates\n",
    "y = True_Fund\n",
    "\n",
    "y1 = Predicted_Fund\n",
    "\n",
    "plt.plot(x,y, color=\"green\")\n",
    "plt.plot(x,y1, color=\"red\")\n",
    "# beautify the x-labels\n",
    "plt.gcf().autofmt_xdate()\n",
    "plt.xlabel('Dates')\n",
    "plt.ylabel(\"Fund\")\n",
    "plt.title(\"Machine Learned the Pattern Predicting Future Values \")\n",
    "plt.legend()"
   ]
  },
  {
   "cell_type": "code",
   "execution_count": null,
   "id": "f66d3f14",
   "metadata": {},
   "outputs": [],
   "source": []
  }
 ],
 "metadata": {
  "kernelspec": {
   "display_name": "Python 3",
   "language": "python",
   "name": "python3"
  },
  "language_info": {
   "codemirror_mode": {
    "name": "ipython",
    "version": 3
   },
   "file_extension": ".py",
   "mimetype": "text/x-python",
   "name": "python",
   "nbconvert_exporter": "python",
   "pygments_lexer": "ipython3",
   "version": "3.7.3"
  }
 },
 "nbformat": 4,
 "nbformat_minor": 5
}
